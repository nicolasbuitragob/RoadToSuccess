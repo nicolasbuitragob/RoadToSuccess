{
 "cells": [
  {
   "cell_type": "markdown",
   "id": "aac143d2-eda7-4208-8a01-59e6f52b989b",
   "metadata": {},
   "source": [
    "# Scrapping food recipes"
   ]
  },
  {
   "cell_type": "code",
   "execution_count": 1,
   "id": "cb53cf43-61ef-42f4-b72a-7c79fbeef989",
   "metadata": {},
   "outputs": [],
   "source": [
    "import requests as req\n",
    "from bs4 import BeautifulSoup"
   ]
  },
  {
   "cell_type": "code",
   "execution_count": 2,
   "id": "16ee13ae-945a-4dab-8f56-2fc05b424f80",
   "metadata": {},
   "outputs": [],
   "source": [
    "url = 'https://www.allrecipes.com/'"
   ]
  },
  {
   "cell_type": "code",
   "execution_count": 3,
   "id": "d156364a-c8b7-475e-a0b5-4caa17623220",
   "metadata": {},
   "outputs": [],
   "source": [
    "main_page = req.get(url)"
   ]
  },
  {
   "cell_type": "code",
   "execution_count": 4,
   "id": "5236eb00-1c21-4c45-8c63-bc77a39eb45d",
   "metadata": {},
   "outputs": [],
   "source": [
    "main_page_sp = BeautifulSoup(main_page.text, 'lxml')"
   ]
  },
  {
   "cell_type": "code",
   "execution_count": 5,
   "id": "8a3ed2ee-c7a2-47fa-9118-5d3fc47ec4d9",
   "metadata": {},
   "outputs": [],
   "source": [
    "def get_recipes(soup):\n",
    "    pass"
   ]
  },
  {
   "cell_type": "code",
   "execution_count": 101,
   "id": "451c8a46-a497-4a37-b1dc-924bfd7c7f9e",
   "metadata": {},
   "outputs": [],
   "source": [
    "group_recipes = main_page_sp.find_all('div', attrs = {\"class\":\"category-page-list\"})"
   ]
  },
  {
   "cell_type": "code",
   "execution_count": 194,
   "id": "581cc876-5272-4706-8978-e9f66ca4b403",
   "metadata": {},
   "outputs": [],
   "source": [
    "recipes = []\n",
    "for group in group_recipes:\n",
    "    for recipe_card in group.find_all('div',attrs = {'class':'card'}):\n",
    "        recipe_link = recipe_card\n",
    "        recipes.append(recipe_link.a['href'])\n",
    "    "
   ]
  },
  {
   "cell_type": "code",
   "execution_count": 195,
   "id": "2cd686e9-7c2c-4c15-90da-6d6d76afd6d8",
   "metadata": {},
   "outputs": [
    {
     "data": {
      "text/plain": [
       "['https://www.allrecipes.com/recipe/281921/basic-hasselback-idaho-potatoes/',\n",
       " 'https://www.allrecipes.com/recipe/25687/chili-ricks/',\n",
       " 'https://www.allrecipes.com/recipe/221911/bretas-7-layer-dip/',\n",
       " 'https://www.allrecipes.com/recipe/163625/simply-guacamole/',\n",
       " 'https://www.allrecipes.com/recipe/8345993/pepperoni-pizza-cheese-drip-chips/',\n",
       " 'https://www.allrecipes.com/recipe/24043/cookie-balls/',\n",
       " 'https://www.allrecipes.com/recipe/234376/peanut-butter-chocolate-chunk-bars/',\n",
       " 'https://www.allrecipes.com/recipe/266830/instant-pot-barbacoa/',\n",
       " 'https://www.allrecipes.com/recipe/244939/chocolate-coconut-overnight-oats/',\n",
       " 'https://www.allrecipes.com/recipe/100072/lobster-colorado/',\n",
       " 'https://www.allrecipes.com/recipe/8014/simple-n-delicious-chocolate-cake/',\n",
       " 'https://www.allrecipes.com/recipe/16354/easy-meatloaf/',\n",
       " 'https://www.allrecipes.com/recipe/214931/oven-roasted-asparagus/',\n",
       " 'https://www.allrecipes.com/recipe/280021/slow-cooker-french-onion-pork-chops/',\n",
       " 'https://www.allrecipes.com/recipe/23600/worlds-best-lasagna/',\n",
       " 'https://www.allrecipes.com/recipe/285424/easy-smashed-brussels-sprouts/',\n",
       " 'https://www.allrecipes.com/recipe/223381/melt-in-your-mouth-meat-loaf/',\n",
       " 'https://www.allrecipes.com/recipe/46653/taco-seasoning-i/',\n",
       " 'https://www.allrecipes.com/recipe/10813/best-chocolate-chip-cookies/',\n",
       " 'https://www.allrecipes.com/recipe/282545/sheet-pan-breakfast-potatoes/',\n",
       " 'https://www.allrecipes.com/recipe/14231/guacamole/',\n",
       " 'https://www.allrecipes.com/recipe/240784/easy-coleslaw-dressing/',\n",
       " 'https://www.allrecipes.com/recipe/20144/banana-banana-bread/',\n",
       " 'https://www.allrecipes.com/recipe/283198/parmesan-baked-pork-chops/',\n",
       " 'https://www.allrecipes.com/recipe/16383/basic-crepes/',\n",
       " 'https://www.allrecipes.com/recipe/92462/slow-cooker-texas-pulled-pork/',\n",
       " 'https://www.allrecipes.com/recipe/68461/buffalo-chicken-dip/',\n",
       " 'https://www.allrecipes.com/recipe/83196/hamburger-jazz/',\n",
       " 'https://www.allrecipes.com/recipe/9870/easy-sugar-cookies/',\n",
       " 'https://www.allrecipes.com/recipe/83557/juicy-roasted-chicken/',\n",
       " 'https://www.allrecipes.com/recipe/11679/homemade-mac-and-cheese/',\n",
       " 'https://www.allrecipes.com/recipe/216159/perfect-chicken/',\n",
       " 'https://www.allrecipes.com/recipe/22180/waffles-i/',\n",
       " 'https://www.allrecipes.com/recipe/22831/alfredo-sauce/',\n",
       " 'https://www.allrecipes.com/recipe/20513/classic-waffles/',\n",
       " 'https://www.allrecipes.com/recipe/216391/easy-sausage-gravy-and-biscuits/',\n",
       " 'https://www.allrecipes.com/recipe/10275/classic-peanut-butter-cookies/',\n",
       " 'https://www.allrecipes.com/recipe/174347/quick-and-almost-professional-buttercream-icing/',\n",
       " 'https://www.allrecipes.com/recipe/10549/best-brownies/',\n",
       " 'https://www.allrecipes.com/recipe/71722/asian-lettuce-wraps/',\n",
       " 'https://www.allrecipes.com/recipe/241038/microwave-chocolate-mug-cake/',\n",
       " 'https://www.allrecipes.com/recipe/222037/tatertot-casserole/',\n",
       " 'https://www.allrecipes.com/recipe/7016/french-toast-i/',\n",
       " 'https://www.allrecipes.com/recipe/24771/basic-mashed-potatoes/',\n",
       " 'https://www.allrecipes.com/recipe/238691/simple-macaroni-and-cheese/',\n",
       " 'https://www.allrecipes.com/recipe/8341776/baked-cowboy-dip/',\n",
       " 'https://www.allrecipes.com/recipe/235874/copycat-panera-broccoli-cheddar-soup/',\n",
       " 'https://www.allrecipes.com/recipe/223042/chicken-parmesan/',\n",
       " 'https://www.allrecipes.com/recipe/26317/chicken-pot-pie-ix/',\n",
       " 'https://www.allrecipes.com/recipe/16348/baked-pork-chops-i/',\n",
       " 'https://www.allrecipes.com/recipe/6865/to-die-for-blueberry-muffins/',\n",
       " 'https://www.allrecipes.com/recipe/19247/soft-oatmeal-cookies/',\n",
       " 'https://www.allrecipes.com/recipe/85337/microwave-baked-potato/',\n",
       " 'https://www.allrecipes.com/recipe/147103/delicious-egg-salad-for-sandwiches/',\n",
       " 'https://www.allrecipes.com/recipe/14685/slow-cooker-beef-stew-i/',\n",
       " 'https://www.allrecipes.com/recipe/45396/easy-pancakes/',\n",
       " 'https://www.allrecipes.com/recipe/17395/chocolate-eclair-cake/',\n",
       " 'https://www.allrecipes.com/recipe/143809/best-steak-marinade-in-existence/',\n",
       " 'https://www.allrecipes.com/recipe/233983/mamaws-chicken-and-rice-casserole/',\n",
       " 'https://www.allrecipes.com/recipe/10294/the-best-lemon-bars/',\n",
       " 'https://www.allrecipes.com/recipe/219109/buffalo-chicken-wing-sauce/',\n",
       " 'https://www.allrecipes.com/recipe/15093/grandmas-lemon-meringue-pie/',\n",
       " 'https://www.allrecipes.com/recipe/284260/chicken-normandy-escalope-de-poulet-a-la-normande/',\n",
       " 'https://www.allrecipes.com/recipe/42719/banana-muffins-ii/',\n",
       " 'https://www.allrecipes.com/recipe/232967/fajita-seasoning/',\n",
       " 'https://www.allrecipes.com/recipe/259887/simple-teriyaki-sauce/',\n",
       " 'https://www.allrecipes.com/recipe/74360/the-best-meatloaf-ive-ever-made/',\n",
       " 'https://www.allrecipes.com/recipe/85389/gourmet-mushroom-risotto/',\n",
       " 'https://www.allrecipes.com/recipe/229733/simple-roasted-butternut-squash/',\n",
       " 'https://www.allrecipes.com/recipe/158140/spaghetti-sauce-with-ground-beef/',\n",
       " 'https://www.allrecipes.com/recipe/13218/absolutely-ultimate-potato-soup/',\n",
       " 'https://www.allrecipes.com/recipe/272437/keto-smothered-chicken-thighs/',\n",
       " 'https://www.allrecipes.com/recipe/20171/quick-and-easy-pizza-crust/',\n",
       " 'https://www.allrecipes.com/recipe/247100/zucchini-tots/',\n",
       " 'https://www.allrecipes.com/recipe/21766/roasted-pork-loin/',\n",
       " 'https://www.allrecipes.com/recipe/235471/how-to-make-coquilles-saint-jacques/',\n",
       " 'https://www.allrecipes.com/recipe/230482/banana-chocolate-chip-bread/',\n",
       " 'https://www.allrecipes.com/recipe/17481/simple-white-cake/',\n",
       " 'https://www.allrecipes.com/recipe/8379/basic-cream-cheese-frosting/',\n",
       " 'https://www.allrecipes.com/recipe/8814/homemade-chicken-soup/',\n",
       " 'https://www.allrecipes.com/recipe/229279/marias-mexican-rice/',\n",
       " 'https://www.allrecipes.com/recipe/183835/quick-tartar-sauce/',\n",
       " 'https://www.allrecipes.com/recipe/257030/chef-johns-hot-sloppy-joe-dip/',\n",
       " 'https://www.allrecipes.com/recipe/6900/dumplings/',\n",
       " 'https://www.allrecipes.com/recipe/147363/the-real-mojito/',\n",
       " 'https://www.allrecipes.com/recipe/13107/miso-soup/',\n",
       " 'https://www.allrecipes.com/recipe/24264/sloppy-joes-ii/',\n",
       " 'https://www.allrecipes.com/recipe/241707/joys-easy-banana-bread/',\n",
       " 'https://www.allrecipes.com/recipe/278981/grandmas-chocolate-texas-sheet-cake/']"
      ]
     },
     "execution_count": 195,
     "metadata": {},
     "output_type": "execute_result"
    }
   ],
   "source": [
    "recipes"
   ]
  },
  {
   "cell_type": "code",
   "execution_count": null,
   "id": "9fce32b3-1e68-4da7-9f88-6cae24f56853",
   "metadata": {},
   "outputs": [],
   "source": []
  },
  {
   "cell_type": "code",
   "execution_count": null,
   "id": "59d18e33-54ce-4905-8b3d-55615655730c",
   "metadata": {},
   "outputs": [],
   "source": []
  },
  {
   "cell_type": "code",
   "execution_count": null,
   "id": "9247268b-844f-4381-860e-1773f85b6afb",
   "metadata": {},
   "outputs": [],
   "source": []
  },
  {
   "cell_type": "code",
   "execution_count": null,
   "id": "c0380f5d-3a0b-4949-932c-5da210f58404",
   "metadata": {},
   "outputs": [],
   "source": []
  },
  {
   "cell_type": "code",
   "execution_count": null,
   "id": "28370fe4-5b43-48f3-af12-663fc2471cec",
   "metadata": {},
   "outputs": [],
   "source": []
  },
  {
   "cell_type": "code",
   "execution_count": null,
   "id": "d77ed658-52c8-47b6-af57-751dffbb4381",
   "metadata": {},
   "outputs": [],
   "source": []
  }
 ],
 "metadata": {
  "kernelspec": {
   "display_name": "Python 3 (ipykernel)",
   "language": "python",
   "name": "python3"
  },
  "language_info": {
   "codemirror_mode": {
    "name": "ipython",
    "version": 3
   },
   "file_extension": ".py",
   "mimetype": "text/x-python",
   "name": "python",
   "nbconvert_exporter": "python",
   "pygments_lexer": "ipython3",
   "version": "3.8.10"
  }
 },
 "nbformat": 4,
 "nbformat_minor": 5
}
